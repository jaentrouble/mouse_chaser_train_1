{
 "metadata": {
  "language_info": {
   "codemirror_mode": {
    "name": "ipython",
    "version": 3
   },
   "file_extension": ".py",
   "mimetype": "text/x-python",
   "name": "python",
   "nbconvert_exporter": "python",
   "pygments_lexer": "ipython3",
   "version": "3.8.6-final"
  },
  "orig_nbformat": 2,
  "kernelspec": {
   "name": "python3",
   "display_name": "Python 3.8.6 64-bit ('env': venv)",
   "metadata": {
    "interpreter": {
     "hash": "564f98d5f6913b09f204b54a835e5879333e8de3cd5a567a66a21d3b290bee78"
    }
   }
  }
 },
 "nbformat": 4,
 "nbformat_minor": 2,
 "cells": [
  {
   "cell_type": "code",
   "execution_count": 1,
   "metadata": {},
   "outputs": [
    {
     "output_type": "stream",
     "name": "stdout",
     "text": [
      "INFO:tensorflow:Mixed precision compatibility check (mixed_float16): OK\nYour GPU will likely run quickly with dtype policy mixed_float16 as it has compute capability of at least 7.0. Your GPU: GeForce RTX 2070 SUPER, compute capability 7.5\n"
     ]
    }
   ],
   "source": [
    "import tensorflow as tf\n",
    "from model_trainer import *\n",
    "import matplotlib.pyplot as plt\n",
    "from tensorflow.keras import mixed_precision\n",
    "gpus = tf.config.experimental.list_physical_devices('GPU')\n",
    "if gpus:\n",
    "    try:\n",
    "        for gpu in gpus:\n",
    "            tf.config.experimental.set_memory_growth(gpu, True)\n",
    "    except RuntimeError as e:\n",
    "        print(e)\n",
    "policy = mixed_precision.Policy('mixed_float16')\n",
    "mixed_precision.set_global_policy(policy)"
   ]
  },
  {
   "cell_type": "code",
   "execution_count": 2,
   "metadata": {},
   "outputs": [],
   "source": [
    "import cv2\n",
    "import numpy as np\n",
    "from pathlib import Path\n",
    "from tqdm.notebook import trange"
   ]
  },
  {
   "cell_type": "code",
   "execution_count": 3,
   "metadata": {},
   "outputs": [],
   "source": [
    "import backbone_models\n",
    "import specific_models"
   ]
  },
  {
   "cell_type": "code",
   "execution_count": 4,
   "metadata": {},
   "outputs": [],
   "source": [
    "import skimage"
   ]
  },
  {
   "cell_type": "code",
   "execution_count": 5,
   "metadata": {},
   "outputs": [],
   "source": [
    "vid_dir = Path('data/test')\n",
    "vid_path = vid_dir.iterdir().__next__()\n",
    "\n",
    "model_path = 'savedmodels/mobv3_small_head/100'\n",
    "bb_model = backbone_models.mobv3_small\n",
    "sp_model = {\n",
    "    'head' : specific_models.conv_squeeze_double,\n",
    "}\n",
    "image_size = (384,256)"
   ]
  },
  {
   "cell_type": "code",
   "execution_count": 6,
   "metadata": {},
   "outputs": [
    {
     "output_type": "stream",
     "name": "stdout",
     "text": [
      "Model: \"model\"\n_________________________________________________________________\nLayer (type)                 Output Shape              Param #   \n=================================================================\ninput_1 (InputLayer)         [(None, 256, 384, 3)]     0         \n_________________________________________________________________\nEffHRNet (EfficientHRNet_MV3 (None, 128, 192, 12)      1752632   \n_________________________________________________________________\nfinal_conv_head (Conv2D)     (None, 128, 192, 1)       13        \n_________________________________________________________________\nup_sampling2d (UpSampling2D) (None, 256, 384, 1)       0         \n_________________________________________________________________\ntf.compat.v1.squeeze (TFOpLa (None, 256, 384)          0         \n_________________________________________________________________\nhead (Activation)            (None, 256, 384)          0         \n=================================================================\nTotal params: 1,752,645\nTrainable params: 1,737,645\nNon-trainable params: 15,000\n_________________________________________________________________\n"
     ]
    }
   ],
   "source": [
    "testmodel = ChaserModel(tf.keras.Input((image_size[1],image_size[0],3)),bb_model,sp_model)"
   ]
  },
  {
   "cell_type": "code",
   "execution_count": 7,
   "metadata": {},
   "outputs": [
    {
     "output_type": "execute_result",
     "data": {
      "text/plain": [
       "<tensorflow.python.training.tracking.util.CheckpointLoadStatus at 0x266166a34c0>"
      ]
     },
     "metadata": {},
     "execution_count": 7
    }
   ],
   "source": [
    "testmodel.load_weights(model_path)"
   ]
  },
  {
   "cell_type": "code",
   "execution_count": 8,
   "metadata": {},
   "outputs": [],
   "source": [
    "original_size = (640,480)\n",
    "original_hw = (original_size[1],original_size[0])\n",
    "model_size = image_size\n",
    "model_hw = (model_size[1],model_size[0])\n",
    "batch_size = 64"
   ]
  },
  {
   "cell_type": "code",
   "execution_count": 9,
   "metadata": {},
   "outputs": [
    {
     "output_type": "stream",
     "name": "stdout",
     "text": [
      "loaded\n"
     ]
    },
    {
     "output_type": "display_data",
     "data": {
      "text/plain": "HBox(children=(HTML(value=''), FloatProgress(value=0.0, max=89.0), HTML(value='')))",
      "application/vnd.jupyter.widget-view+json": {
       "version_major": 2,
       "version_minor": 0,
       "model_id": "cd1b013328ee4db2acacfe40e637987c"
      }
     },
     "metadata": {}
    },
    {
     "output_type": "stream",
     "name": "stdout",
     "text": [
      "\ndone\n"
     ]
    }
   ],
   "source": [
    "cap = cv2.VideoCapture(str(vid_path))\n",
    "fourcc = cv2.VideoWriter_fourcc(*'MP4V')\n",
    "writer = cv2.VideoWriter('results/result.mp4',fourcc,30,original_size)\n",
    "frames = []\n",
    "original_frames=[]\n",
    "while(cap.isOpened()):\n",
    "    ret, frame = cap.read()\n",
    "    if ret:\n",
    "        small_frame = cv2.resize(frame, dsize=model_size)[...,2::-1]\n",
    "        frames.append(small_frame)\n",
    "        original_frames.append(frame)\n",
    "    else:\n",
    "        break\n",
    "print('loaded')\n",
    "batch_num = len(frames) // batch_size\n",
    "count = 0\n",
    "for i in trange(batch_num):\n",
    "    output = testmodel.predict_on_batch(np.array(frames[i*batch_size:(i+1)*batch_size]))\n",
    "    block_hms = output['head']\n",
    "    block_poses = np.unravel_index(block_hms.reshape((block_hms.shape[0],-1)).argmax(axis=1),block_hms.shape[1:])\n",
    "    block_poses = np.swapaxes(block_poses,0,1)\n",
    "    for block_pose, block_hm in zip(block_poses,block_hms):\n",
    "        new_block = np.multiply(block_pose,np.divide(original_hw,model_hw)).astype(np.int)\n",
    "        block_rr, block_cc = skimage.draw.disk(new_block,10, shape=original_hw)\n",
    "        frame = original_frames[count]\n",
    "        block_hm = cv2.resize(block_hm, dsize=original_size)\n",
    "        norm_hm = ((block_hm/np.max(block_hm))*255).astype(np.uint8)\n",
    "        color_hm = cv2.applyColorMap(norm_hm, cv2.COLORMAP_JET)\n",
    "        \n",
    "        mixed = cv2.addWeighted(frame, 0.5, color_hm, 0.5, 0.0)\n",
    "        mixed[block_rr,block_cc] = [0,255,0]\n",
    "        writer.write(mixed)\n",
    "        count += 1\n",
    "\n",
    "cap.release()\n",
    "writer.release()\n",
    "print('done')"
   ]
  },
  {
   "cell_type": "code",
   "execution_count": null,
   "metadata": {},
   "outputs": [],
   "source": []
  }
 ]
}