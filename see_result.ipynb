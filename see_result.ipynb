{
 "metadata": {
  "language_info": {
   "codemirror_mode": {
    "name": "ipython",
    "version": 3
   },
   "file_extension": ".py",
   "mimetype": "text/x-python",
   "name": "python",
   "nbconvert_exporter": "python",
   "pygments_lexer": "ipython3",
   "version": "3.8.6-final"
  },
  "orig_nbformat": 2,
  "kernelspec": {
   "name": "Python 3.8.6 64-bit ('env')",
   "display_name": "Python 3.8.6 64-bit ('env')",
   "metadata": {
    "interpreter": {
     "hash": "564f98d5f6913b09f204b54a835e5879333e8de3cd5a567a66a21d3b290bee78"
    }
   }
  }
 },
 "nbformat": 4,
 "nbformat_minor": 2,
 "cells": [
  {
   "cell_type": "code",
   "execution_count": 1,
   "metadata": {},
   "outputs": [
    {
     "output_type": "stream",
     "name": "stdout",
     "text": [
      "INFO:tensorflow:Mixed precision compatibility check (mixed_float16): OK\nYour GPU will likely run quickly with dtype policy mixed_float16 as it has compute capability of at least 7.0. Your GPU: GeForce RTX 2070 SUPER, compute capability 7.5\n"
     ]
    }
   ],
   "source": [
    "import tensorflow as tf\n",
    "from model_trainer import *\n",
    "import matplotlib.pyplot as plt\n",
    "from tensorflow.keras.mixed_precision import experimental as mixed_precision\n",
    "gpus = tf.config.experimental.list_physical_devices('GPU')\n",
    "if gpus:\n",
    "    try:\n",
    "        for gpu in gpus:\n",
    "            tf.config.experimental.set_memory_growth(gpu, True)\n",
    "    except RuntimeError as e:\n",
    "        print(e)\n",
    "policy = mixed_precision.Policy('mixed_float16')\n",
    "mixed_precision.set_policy(policy)"
   ]
  },
  {
   "cell_type": "code",
   "execution_count": 2,
   "metadata": {},
   "outputs": [],
   "source": [
    "import cv2\n",
    "import numpy as np\n",
    "from pathlib import Path\n",
    "from tqdm.notebook import trange"
   ]
  },
  {
   "cell_type": "code",
   "execution_count": 3,
   "metadata": {},
   "outputs": [],
   "source": [
    "import backbone_models\n",
    "import specific_models"
   ]
  },
  {
   "cell_type": "code",
   "execution_count": 4,
   "metadata": {},
   "outputs": [],
   "source": [
    "import skimage"
   ]
  },
  {
   "cell_type": "code",
   "execution_count": 5,
   "metadata": {},
   "outputs": [],
   "source": [
    "vid_dir = Path('data/test')\n",
    "vid_path = vid_dir.iterdir().__next__()\n",
    "\n",
    "model_path = 'savedmodels/hr538_316_aug_500/50'\n",
    "bb_model = backbone_models.hr_5_3_8\n",
    "sp_model = {\n",
    "    'nose' : specific_models.conv3_16,\n",
    "    'tail' : specific_models.conv3_16,\n",
    "}"
   ]
  },
  {
   "cell_type": "code",
   "execution_count": 6,
   "metadata": {},
   "outputs": [
    {
     "output_type": "stream",
     "name": "stdout",
     "text": [
      "Model: \"functional_1\"\n__________________________________________________________________________________________________\nLayer (type)                    Output Shape         Param #     Connected to                     \n==================================================================================================\ninput_1 (InputLayer)            [(None, 240, 320, 3) 0                                            \n__________________________________________________________________________________________________\nHR_0 (HighResolutionModule)     [(None, 240, 320, 8) 3760        input_1[0][0]                    \n__________________________________________________________________________________________________\nHR_1 (HighResolutionModule)     [(None, 240, 320, 8) 19336       HR_0[0][0]                       \n__________________________________________________________________________________________________\nHR_2 (HighResolutionModule)     [(None, 240, 320, 8) 92704       HR_1[0][0]                       \n                                                                 HR_1[0][1]                       \n__________________________________________________________________________________________________\nHR_3 (HighResolutionModule)     [(None, 240, 320, 8) 462648      HR_2[0][0]                       \n                                                                 HR_2[0][1]                       \n                                                                 HR_2[0][2]                       \n__________________________________________________________________________________________________\nHR_4 (HighResolutionModule)     [(None, 240, 320, 8) 470928      HR_3[0][0]                       \n                                                                 HR_3[0][1]                       \n                                                                 HR_3[0][2]                       \n                                                                 HR_3[0][3]                       \n__________________________________________________________________________________________________\nFusion_0 (HighResolutionFusion) [(None, 240, 320, 8) 1120        HR_4[0][0]                       \n                                                                 HR_4[0][1]                       \n                                                                 HR_4[0][2]                       \n                                                                 HR_4[0][3]                       \n__________________________________________________________________________________________________\nfinal_conv1_nose (Conv2D)       (None, 240, 320, 16) 1168        Fusion_0[0][0]                   \n__________________________________________________________________________________________________\nfinal_conv1_tail (Conv2D)       (None, 240, 320, 16) 1168        Fusion_0[0][0]                   \n__________________________________________________________________________________________________\nfinal_conv2_nose (Conv2D)       (None, 240, 320, 16) 2320        final_conv1_nose[0][0]           \n__________________________________________________________________________________________________\nfinal_conv2_tail (Conv2D)       (None, 240, 320, 16) 2320        final_conv1_tail[0][0]           \n__________________________________________________________________________________________________\nfinal_conv_squeeze_nose (Conv2D (None, 240, 320, 1)  145         final_conv2_nose[0][0]           \n__________________________________________________________________________________________________\nfinal_conv_squeeze_tail (Conv2D (None, 240, 320, 1)  145         final_conv2_tail[0][0]           \n__________________________________________________________________________________________________\ntf_op_layer_Squeeze (TensorFlow [(None, 240, 320)]   0           final_conv_squeeze_nose[0][0]    \n__________________________________________________________________________________________________\ntf_op_layer_Squeeze_1 (TensorFl [(None, 240, 320)]   0           final_conv_squeeze_tail[0][0]    \n__________________________________________________________________________________________________\nnose (Activation)               (None, 240, 320)     0           tf_op_layer_Squeeze[0][0]        \n__________________________________________________________________________________________________\ntail (Activation)               (None, 240, 320)     0           tf_op_layer_Squeeze_1[0][0]      \n==================================================================================================\nTotal params: 1,057,762\nTrainable params: 1,050,834\nNon-trainable params: 6,928\n__________________________________________________________________________________________________\n"
     ]
    }
   ],
   "source": [
    "testmodel = ChaserModel(tf.keras.Input((240,320,3)),bb_model,sp_model)"
   ]
  },
  {
   "cell_type": "code",
   "execution_count": 7,
   "metadata": {},
   "outputs": [
    {
     "output_type": "execute_result",
     "data": {
      "text/plain": [
       "<tensorflow.python.training.tracking.util.CheckpointLoadStatus at 0x20625771b50>"
      ]
     },
     "metadata": {},
     "execution_count": 7
    }
   ],
   "source": [
    "testmodel.load_weights(model_path)"
   ]
  },
  {
   "cell_type": "code",
   "execution_count": 8,
   "metadata": {},
   "outputs": [],
   "source": [
    "original_size = (640,480)\n",
    "original_hw = (original_size[1],original_size[0])\n",
    "model_size = (320,240)\n",
    "model_hw = (model_size[1],model_size[0])\n",
    "batch_size = 64"
   ]
  },
  {
   "cell_type": "code",
   "execution_count": 9,
   "metadata": {},
   "outputs": [
    {
     "output_type": "stream",
     "name": "stdout",
     "text": [
      "loaded\n"
     ]
    },
    {
     "output_type": "display_data",
     "data": {
      "text/plain": "HBox(children=(HTML(value=''), FloatProgress(value=0.0, max=89.0), HTML(value='')))",
      "application/vnd.jupyter.widget-view+json": {
       "version_major": 2,
       "version_minor": 0,
       "model_id": "5eb84ec7ed0949ecaa6be12c6c686ff2"
      }
     },
     "metadata": {}
    },
    {
     "output_type": "stream",
     "name": "stdout",
     "text": [
      "\ndone\n"
     ]
    }
   ],
   "source": [
    "cap = cv2.VideoCapture(str(vid_path))\n",
    "fourcc = cv2.VideoWriter_fourcc(*'MP4V')\n",
    "writer = cv2.VideoWriter('results/result.mp4',fourcc,30,original_size)\n",
    "frames = []\n",
    "original_frames=[]\n",
    "while(cap.isOpened()):\n",
    "    ret, frame = cap.read()\n",
    "    if ret:\n",
    "        small_frame = cv2.resize(frame, dsize=model_size)[...,2::-1]\n",
    "        frames.append(small_frame)\n",
    "        original_frames.append(frame)\n",
    "    else:\n",
    "        break\n",
    "print('loaded')\n",
    "batch_num = len(frames) // batch_size\n",
    "count = 0\n",
    "for i in trange(batch_num):\n",
    "    output = testmodel(np.array(frames[i*batch_size:(i+1)*batch_size]))\n",
    "    nose_hms, tail_hms = output['nose'].numpy(), output['tail'].numpy()\n",
    "    nose_poses = np.unravel_index(nose_hms.reshape((nose_hms.shape[0],-1)).argmax(axis=1),nose_hms.shape[1:])\n",
    "    nose_poses = np.swapaxes(nose_poses,0,1)\n",
    "    tail_poses = np.unravel_index(tail_hms.reshape((tail_hms.shape[0],-1)).argmax(axis=1),tail_hms.shape[1:])\n",
    "    tail_poses = np.swapaxes(tail_poses,0,1)\n",
    "    for nose_pos, tail_pos in zip(nose_poses, tail_poses):\n",
    "        new_nose = np.multiply(nose_pos,np.divide(original_hw,model_hw)).astype(np.int)\n",
    "        new_tail = np.multiply(tail_pos,np.divide(original_hw,model_hw)).astype(np.int)\n",
    "        nose_rr, nose_cc = skimage.draw.disk(new_nose,10, shape=original_hw)\n",
    "        tail_rr, tail_cc = skimage.draw.disk(new_tail,10, shape=original_hw)\n",
    "        frame = original_frames[count]\n",
    "        frame[nose_rr,nose_cc] = [0,255,0]\n",
    "        frame[tail_rr,tail_cc] = [255,0,0]\n",
    "        writer.write(frame)\n",
    "        count += 1\n",
    "\n",
    "cap.release()\n",
    "writer.release()\n",
    "print('done')"
   ]
  },
  {
   "cell_type": "code",
   "execution_count": null,
   "metadata": {},
   "outputs": [],
   "source": []
  }
 ]
}