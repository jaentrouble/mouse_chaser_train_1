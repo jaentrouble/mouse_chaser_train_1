{
 "metadata": {
  "language_info": {
   "codemirror_mode": {
    "name": "ipython",
    "version": 3
   },
   "file_extension": ".py",
   "mimetype": "text/x-python",
   "name": "python",
   "nbconvert_exporter": "python",
   "pygments_lexer": "ipython3",
   "version": "3.8.6-final"
  },
  "orig_nbformat": 2,
  "kernelspec": {
   "name": "python3",
   "display_name": "Python 3.8.6 64-bit ('env': venv)",
   "metadata": {
    "interpreter": {
     "hash": "564f98d5f6913b09f204b54a835e5879333e8de3cd5a567a66a21d3b290bee78"
    }
   }
  }
 },
 "nbformat": 4,
 "nbformat_minor": 2,
 "cells": [
  {
   "cell_type": "code",
   "execution_count": 1,
   "metadata": {},
   "outputs": [
    {
     "output_type": "stream",
     "name": "stdout",
     "text": [
      "INFO:tensorflow:Mixed precision compatibility check (mixed_float16): OK\nYour GPU will likely run quickly with dtype policy mixed_float16 as it has compute capability of at least 7.0. Your GPU: GeForce RTX 2070 SUPER, compute capability 7.5\n"
     ]
    }
   ],
   "source": [
    "import matplotlib.pyplot as plt\n",
    "from model_trainer import *\n",
    "import tensorflow as tf\n",
    "from tensorflow.keras import mixed_precision\n",
    "gpus = tf.config.experimental.list_physical_devices('GPU')\n",
    "if gpus:\n",
    "    try:\n",
    "        for gpu in gpus:\n",
    "            tf.config.experimental.set_memory_growth(gpu, True)\n",
    "    except RuntimeError as e:\n",
    "        print(e)\n",
    "policy = mixed_precision.Policy('mixed_float16')\n",
    "mixed_precision.set_global_policy(policy)"
   ]
  },
  {
   "source": [
    "import cv2\n",
    "import numpy as np\n",
    "from pathlib import Path\n",
    "from tqdm.notebook import trange\n",
    "import backbone_models\n",
    "import specific_models\n",
    "import os"
   ],
   "cell_type": "code",
   "metadata": {},
   "execution_count": 2,
   "outputs": []
  },
  {
   "cell_type": "code",
   "execution_count": 3,
   "metadata": {},
   "outputs": [],
   "source": [
    "def gaussian_heatmap_batch(rr, cc, shape, sigma=10):\n",
    "    \"\"\"\n",
    "    Returns a heat map of a point\n",
    "    Shape is expected to be (HEIGHT, WIDTH)\n",
    "    [r,c] should be the point i.e. opposite of pygame notation.\n",
    "\n",
    "    Parameters\n",
    "    ----------\n",
    "    rr : np.array\n",
    "        batch of row of the points\n",
    "    cc : np.array\n",
    "        batch of the points\n",
    "    shape : tuple of int\n",
    "        (HEIGHT, WIDTH)\n",
    "\n",
    "    Returns\n",
    "    -------\n",
    "    heatmap : np.array\n",
    "        shape : (HEIGHT, WIDTH)\n",
    "    \"\"\"\n",
    "    coordinates = np.stack(np.meshgrid(\n",
    "        np.arange(shape[0],dtype=np.float32),\n",
    "        np.arange(shape[1],dtype=np.float32),\n",
    "        indexing='ij',\n",
    "    ), axis=-1)[np.newaxis,...]\n",
    "    keypoints = np.stack([rr,cc],axis=-1).reshape((-1,1,1,2))\n",
    "    heatmaps = np.exp(-(np.sum((coordinates-keypoints)**2,axis=-1))/(2*sigma**2))\n",
    "\n",
    "    return heatmaps"
   ]
  },
  {
   "cell_type": "code",
   "execution_count": 4,
   "metadata": {},
   "outputs": [],
   "source": [
    "vid_dir = Path('analyze/09_20')\n",
    "model_path = Path('savedmodels/hr538_316_aug_400/50')\n",
    "bb_model = backbone_models.hr_5_3_8\n",
    "sp_model = {\n",
    "    'nose' : specific_models.conv3_16,\n",
    "    'tail' : specific_models.conv3_16,\n",
    "}"
   ]
  },
  {
   "cell_type": "code",
   "execution_count": 5,
   "metadata": {},
   "outputs": [
    {
     "output_type": "stream",
     "name": "stdout",
     "text": [
      "Model: \"model\"\n__________________________________________________________________________________________________\nLayer (type)                    Output Shape         Param #     Connected to                     \n==================================================================================================\ninput_1 (InputLayer)            [(None, 240, 320, 3) 0                                            \n__________________________________________________________________________________________________\nHR_0 (HighResolutionModule)     [(None, 240, 320, 8) 3760        input_1[0][0]                    \n__________________________________________________________________________________________________\nHR_1 (HighResolutionModule)     [(None, 240, 320, 8) 19336       HR_0[0][0]                       \n__________________________________________________________________________________________________\nHR_2 (HighResolutionModule)     [(None, 240, 320, 8) 92704       HR_1[0][0]                       \n                                                                 HR_1[0][1]                       \n__________________________________________________________________________________________________\nHR_3 (HighResolutionModule)     [(None, 240, 320, 8) 462648      HR_2[0][0]                       \n                                                                 HR_2[0][1]                       \n                                                                 HR_2[0][2]                       \n__________________________________________________________________________________________________\nHR_4 (HighResolutionModule)     [(None, 240, 320, 8) 470928      HR_3[0][0]                       \n                                                                 HR_3[0][1]                       \n                                                                 HR_3[0][2]                       \n                                                                 HR_3[0][3]                       \n__________________________________________________________________________________________________\nFusion_0 (HighResolutionFusion) [(None, 240, 320, 8) 1120        HR_4[0][0]                       \n                                                                 HR_4[0][1]                       \n                                                                 HR_4[0][2]                       \n                                                                 HR_4[0][3]                       \n__________________________________________________________________________________________________\nfinal_conv1_nose (Conv2D)       (None, 240, 320, 16) 1168        Fusion_0[0][0]                   \n__________________________________________________________________________________________________\nfinal_conv1_tail (Conv2D)       (None, 240, 320, 16) 1168        Fusion_0[0][0]                   \n__________________________________________________________________________________________________\nfinal_conv2_nose (Conv2D)       (None, 240, 320, 16) 2320        final_conv1_nose[0][0]           \n__________________________________________________________________________________________________\nfinal_conv2_tail (Conv2D)       (None, 240, 320, 16) 2320        final_conv1_tail[0][0]           \n__________________________________________________________________________________________________\nfinal_conv_squeeze_nose (Conv2D (None, 240, 320, 1)  145         final_conv2_nose[0][0]           \n__________________________________________________________________________________________________\nfinal_conv_squeeze_tail (Conv2D (None, 240, 320, 1)  145         final_conv2_tail[0][0]           \n__________________________________________________________________________________________________\ntf.compat.v1.squeeze (TFOpLambd (None, 240, 320)     0           final_conv_squeeze_nose[0][0]    \n__________________________________________________________________________________________________\ntf.compat.v1.squeeze_1 (TFOpLam (None, 240, 320)     0           final_conv_squeeze_tail[0][0]    \n__________________________________________________________________________________________________\nnose (Activation)               (None, 240, 320)     0           tf.compat.v1.squeeze[0][0]       \n__________________________________________________________________________________________________\ntail (Activation)               (None, 240, 320)     0           tf.compat.v1.squeeze_1[0][0]     \n==================================================================================================\nTotal params: 1,057,762\nTrainable params: 1,050,834\nNon-trainable params: 6,928\n__________________________________________________________________________________________________\n"
     ]
    },
    {
     "output_type": "execute_result",
     "data": {
      "text/plain": [
       "<tensorflow.python.training.tracking.util.CheckpointLoadStatus at 0x21516289af0>"
      ]
     },
     "metadata": {},
     "execution_count": 5
    }
   ],
   "source": [
    "test_model = ChaserModel(tf.keras.Input((240,320,3)),bb_model,sp_model)\n",
    "test_model.load_weights(str(model_path))"
   ]
  },
  {
   "cell_type": "code",
   "execution_count": 6,
   "metadata": {},
   "outputs": [],
   "source": [
    "original_wh = (640, 480)\n",
    "model_wh = (320, 240)\n",
    "batch_size = 64"
   ]
  },
  {
   "cell_type": "code",
   "execution_count": 7,
   "metadata": {},
   "outputs": [],
   "source": [
    "original_hw = (original_wh[1],original_wh[0])\n",
    "model_hw = (model_wh[1], model_wh[0])"
   ]
  },
  {
   "cell_type": "code",
   "execution_count": 8,
   "metadata": {},
   "outputs": [
    {
     "output_type": "display_data",
     "data": {
      "text/plain": "HBox(children=(HTML(value=''), FloatProgress(value=0.0, max=2.0), HTML(value='')))",
      "application/vnd.jupyter.widget-view+json": {
       "version_major": 2,
       "version_minor": 0,
       "model_id": "7d9d22861b9a43389c328e063754071e"
      }
     },
     "metadata": {}
    },
    {
     "output_type": "display_data",
     "data": {
      "text/plain": "HBox(children=(HTML(value=''), FloatProgress(value=0.0, max=89.0), HTML(value='')))",
      "application/vnd.jupyter.widget-view+json": {
       "version_major": 2,
       "version_minor": 0,
       "model_id": "514d270273ca40e0a3d0528d7ddac1c6"
      }
     },
     "metadata": {}
    },
    {
     "output_type": "stream",
     "name": "stdout",
     "text": [
      "\n"
     ]
    },
    {
     "output_type": "error",
     "ename": "InternalError",
     "evalue": "Could not synchronize CUDA stream: CUDA_ERROR_ILLEGAL_ADDRESS: an illegal memory access was encountered",
     "traceback": [
      "\u001b[1;31m---------------------------------------------------------------------------\u001b[0m",
      "\u001b[1;31mInternalError\u001b[0m                             Traceback (most recent call last)",
      "\u001b[1;32m<ipython-input-8-9d647a886c89>\u001b[0m in \u001b[0;36m<module>\u001b[1;34m\u001b[0m\n\u001b[0;32m     25\u001b[0m         \u001b[0moutput\u001b[0m \u001b[1;33m=\u001b[0m \u001b[0mtest_model\u001b[0m\u001b[1;33m(\u001b[0m\u001b[0mnp\u001b[0m\u001b[1;33m.\u001b[0m\u001b[0marray\u001b[0m\u001b[1;33m(\u001b[0m\u001b[0msmall_frames\u001b[0m\u001b[1;33m[\u001b[0m\u001b[0mi\u001b[0m\u001b[1;33m*\u001b[0m\u001b[0mbatch_size\u001b[0m\u001b[1;33m:\u001b[0m\u001b[1;33m(\u001b[0m\u001b[0mi\u001b[0m\u001b[1;33m+\u001b[0m\u001b[1;36m1\u001b[0m\u001b[1;33m)\u001b[0m\u001b[1;33m*\u001b[0m\u001b[0mbatch_size\u001b[0m\u001b[1;33m]\u001b[0m\u001b[1;33m)\u001b[0m\u001b[1;33m)\u001b[0m\u001b[1;33m\u001b[0m\u001b[1;33m\u001b[0m\u001b[0m\n\u001b[0;32m     26\u001b[0m         \u001b[1;31m# Only nose\u001b[0m\u001b[1;33m\u001b[0m\u001b[1;33m\u001b[0m\u001b[1;33m\u001b[0m\u001b[0m\n\u001b[1;32m---> 27\u001b[1;33m         \u001b[0mnose_hms\u001b[0m \u001b[1;33m=\u001b[0m \u001b[0moutput\u001b[0m\u001b[1;33m[\u001b[0m\u001b[1;34m'nose'\u001b[0m\u001b[1;33m]\u001b[0m\u001b[1;33m.\u001b[0m\u001b[0mnumpy\u001b[0m\u001b[1;33m(\u001b[0m\u001b[1;33m)\u001b[0m\u001b[1;33m\u001b[0m\u001b[1;33m\u001b[0m\u001b[0m\n\u001b[0m\u001b[0;32m     28\u001b[0m         \u001b[0mrr\u001b[0m\u001b[1;33m,\u001b[0m \u001b[0mcc\u001b[0m \u001b[1;33m=\u001b[0m \u001b[0mnp\u001b[0m\u001b[1;33m.\u001b[0m\u001b[0munravel_index\u001b[0m\u001b[1;33m(\u001b[0m\u001b[0mnose_hms\u001b[0m\u001b[1;33m.\u001b[0m\u001b[0mreshape\u001b[0m\u001b[1;33m(\u001b[0m\u001b[1;33m(\u001b[0m\u001b[0mnose_hms\u001b[0m\u001b[1;33m.\u001b[0m\u001b[0mshape\u001b[0m\u001b[1;33m[\u001b[0m\u001b[1;36m0\u001b[0m\u001b[1;33m]\u001b[0m\u001b[1;33m,\u001b[0m\u001b[1;33m-\u001b[0m\u001b[1;36m1\u001b[0m\u001b[1;33m)\u001b[0m\u001b[1;33m)\u001b[0m\u001b[1;33m.\u001b[0m\u001b[0margmax\u001b[0m\u001b[1;33m(\u001b[0m\u001b[0maxis\u001b[0m\u001b[1;33m=\u001b[0m\u001b[1;36m1\u001b[0m\u001b[1;33m)\u001b[0m\u001b[1;33m,\u001b[0m\u001b[0mnose_hms\u001b[0m\u001b[1;33m.\u001b[0m\u001b[0mshape\u001b[0m\u001b[1;33m[\u001b[0m\u001b[1;36m1\u001b[0m\u001b[1;33m:\u001b[0m\u001b[1;33m]\u001b[0m\u001b[1;33m)\u001b[0m\u001b[1;33m\u001b[0m\u001b[1;33m\u001b[0m\u001b[0m\n\u001b[0;32m     29\u001b[0m         \u001b[0mnose_max_hms\u001b[0m \u001b[1;33m=\u001b[0m \u001b[0mgaussian_heatmap_batch\u001b[0m\u001b[1;33m(\u001b[0m\u001b[0mrr\u001b[0m\u001b[1;33m,\u001b[0m\u001b[0mcc\u001b[0m\u001b[1;33m,\u001b[0m \u001b[0mmodel_hw\u001b[0m\u001b[1;33m)\u001b[0m\u001b[1;33m\u001b[0m\u001b[1;33m\u001b[0m\u001b[0m\n",
      "\u001b[1;32mc:\\Users\\vlffl\\Documents\\GitHub\\mouse_chaser_train_1\\env\\lib\\site-packages\\tensorflow\\python\\framework\\ops.py\u001b[0m in \u001b[0;36mnumpy\u001b[1;34m(self)\u001b[0m\n\u001b[0;32m   1069\u001b[0m     \"\"\"\n\u001b[0;32m   1070\u001b[0m     \u001b[1;31m# TODO(slebedev): Consider avoiding a copy for non-CPU or remote tensors.\u001b[0m\u001b[1;33m\u001b[0m\u001b[1;33m\u001b[0m\u001b[1;33m\u001b[0m\u001b[0m\n\u001b[1;32m-> 1071\u001b[1;33m     \u001b[0mmaybe_arr\u001b[0m \u001b[1;33m=\u001b[0m \u001b[0mself\u001b[0m\u001b[1;33m.\u001b[0m\u001b[0m_numpy\u001b[0m\u001b[1;33m(\u001b[0m\u001b[1;33m)\u001b[0m  \u001b[1;31m# pylint: disable=protected-access\u001b[0m\u001b[1;33m\u001b[0m\u001b[1;33m\u001b[0m\u001b[0m\n\u001b[0m\u001b[0;32m   1072\u001b[0m     \u001b[1;32mreturn\u001b[0m \u001b[0mmaybe_arr\u001b[0m\u001b[1;33m.\u001b[0m\u001b[0mcopy\u001b[0m\u001b[1;33m(\u001b[0m\u001b[1;33m)\u001b[0m \u001b[1;32mif\u001b[0m \u001b[0misinstance\u001b[0m\u001b[1;33m(\u001b[0m\u001b[0mmaybe_arr\u001b[0m\u001b[1;33m,\u001b[0m \u001b[0mnp\u001b[0m\u001b[1;33m.\u001b[0m\u001b[0mndarray\u001b[0m\u001b[1;33m)\u001b[0m \u001b[1;32melse\u001b[0m \u001b[0mmaybe_arr\u001b[0m\u001b[1;33m\u001b[0m\u001b[1;33m\u001b[0m\u001b[0m\n\u001b[0;32m   1073\u001b[0m \u001b[1;33m\u001b[0m\u001b[0m\n",
      "\u001b[1;32mc:\\Users\\vlffl\\Documents\\GitHub\\mouse_chaser_train_1\\env\\lib\\site-packages\\tensorflow\\python\\framework\\ops.py\u001b[0m in \u001b[0;36m_numpy\u001b[1;34m(self)\u001b[0m\n\u001b[0;32m   1037\u001b[0m       \u001b[1;32mreturn\u001b[0m \u001b[0mself\u001b[0m\u001b[1;33m.\u001b[0m\u001b[0m_numpy_internal\u001b[0m\u001b[1;33m(\u001b[0m\u001b[1;33m)\u001b[0m\u001b[1;33m\u001b[0m\u001b[1;33m\u001b[0m\u001b[0m\n\u001b[0;32m   1038\u001b[0m     \u001b[1;32mexcept\u001b[0m \u001b[0mcore\u001b[0m\u001b[1;33m.\u001b[0m\u001b[0m_NotOkStatusException\u001b[0m \u001b[1;32mas\u001b[0m \u001b[0me\u001b[0m\u001b[1;33m:\u001b[0m  \u001b[1;31m# pylint: disable=protected-access\u001b[0m\u001b[1;33m\u001b[0m\u001b[1;33m\u001b[0m\u001b[0m\n\u001b[1;32m-> 1039\u001b[1;33m       \u001b[0msix\u001b[0m\u001b[1;33m.\u001b[0m\u001b[0mraise_from\u001b[0m\u001b[1;33m(\u001b[0m\u001b[0mcore\u001b[0m\u001b[1;33m.\u001b[0m\u001b[0m_status_to_exception\u001b[0m\u001b[1;33m(\u001b[0m\u001b[0me\u001b[0m\u001b[1;33m.\u001b[0m\u001b[0mcode\u001b[0m\u001b[1;33m,\u001b[0m \u001b[0me\u001b[0m\u001b[1;33m.\u001b[0m\u001b[0mmessage\u001b[0m\u001b[1;33m)\u001b[0m\u001b[1;33m,\u001b[0m \u001b[1;32mNone\u001b[0m\u001b[1;33m)\u001b[0m  \u001b[1;31m# pylint: disable=protected-access\u001b[0m\u001b[1;33m\u001b[0m\u001b[1;33m\u001b[0m\u001b[0m\n\u001b[0m\u001b[0;32m   1040\u001b[0m \u001b[1;33m\u001b[0m\u001b[0m\n\u001b[0;32m   1041\u001b[0m   \u001b[1;33m@\u001b[0m\u001b[0mproperty\u001b[0m\u001b[1;33m\u001b[0m\u001b[1;33m\u001b[0m\u001b[0m\n",
      "\u001b[1;32mc:\\Users\\vlffl\\Documents\\GitHub\\mouse_chaser_train_1\\env\\lib\\site-packages\\six.py\u001b[0m in \u001b[0;36mraise_from\u001b[1;34m(value, from_value)\u001b[0m\n",
      "\u001b[1;31mInternalError\u001b[0m: Could not synchronize CUDA stream: CUDA_ERROR_ILLEGAL_ADDRESS: an illegal memory access was encountered"
     ]
    }
   ],
   "source": [
    "heatmap = np.zeros(original_hw, dtype=np.float)\n",
    "vid_names = os.listdir(vid_dir/'vids')\n",
    "fourcc = cv2.VideoWriter_fourcc(*'MP4V')\n",
    "writer = cv2.VideoWriter(\n",
    "    str(vid_dir/'output'/'result.mp4'),\n",
    "    fourcc,\n",
    "    30,\n",
    "    original_wh,\n",
    ")\n",
    "for v_i in trange(len(vid_names)):\n",
    "    vid_name = vid_names[v_i]\n",
    "    original_frames = []\n",
    "    small_frames = []\n",
    "    cap = cv2.VideoCapture(str(vid_dir/'vids'/vid_name))\n",
    "    while (cap.isOpened()):\n",
    "        ret, frame = cap.read()\n",
    "        if ret:\n",
    "            small_frame = cv2.resize(frame, dsize=model_wh)[...,2::-1]\n",
    "            small_frames.append(small_frame)\n",
    "            original_frames.append(frame)\n",
    "        else:\n",
    "            break\n",
    "    batch_num = len(original_frames) // batch_size\n",
    "    for i in trange(batch_num, leave=False):\n",
    "        output = test_model(np.array(small_frames[i*batch_size:(i+1)*batch_size]))\n",
    "        # Only nose\n",
    "        nose_hms = output['nose'].numpy()\n",
    "        rr, cc = np.unravel_index(nose_hms.reshape((nose_hms.shape[0],-1)).argmax(axis=1),nose_hms.shape[1:])\n",
    "        nose_max_hms = gaussian_heatmap_batch(rr,cc, model_hw)\n",
    "        for nose_max_hm, original_frame in zip(nose_max_hms, original_frames[i*batch_size:(i+1)*batch_size]):\n",
    "            large_hm = cv2.resize(nose_max_hm, dsize=original_wh)\n",
    "            heatmap += large_hm\n",
    "            norm_hm = ((heatmap/(np.max(heatmap)))*255).astype(np.uint8)\n",
    "            color_hm = cv2.applyColorMap(norm_hm, cv2.COLORMAP_JET)\n",
    "            mixed = cv2.addWeighted(original_frame, 0.5, color_hm, 0.5, 0.0)\n",
    "            writer.write(mixed)\n",
    "    cap.release()\n",
    "final_norm_hm = ((heatmap/(np.max(heatmap)))*255).astype(np.uint8)\n",
    "colored_final_hm = cv2.applyColorMap(final_norm_hm, cv2.COLORMAP_JET)\n",
    "cv2.imwrite(str(vid_dir/'output'/'heatmap.png'))\n",
    "writer.release()\n",
    "\n",
    "\n"
   ]
  }
 ]
}