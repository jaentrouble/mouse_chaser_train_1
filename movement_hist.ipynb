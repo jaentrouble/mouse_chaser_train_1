{
 "metadata": {
  "language_info": {
   "codemirror_mode": {
    "name": "ipython",
    "version": 3
   },
   "file_extension": ".py",
   "mimetype": "text/x-python",
   "name": "python",
   "nbconvert_exporter": "python",
   "pygments_lexer": "ipython3",
   "version": "3.8.6-final"
  },
  "orig_nbformat": 2,
  "kernelspec": {
   "name": "python3",
   "display_name": "Python 3.8.6 64-bit ('env')",
   "metadata": {
    "interpreter": {
     "hash": "564f98d5f6913b09f204b54a835e5879333e8de3cd5a567a66a21d3b290bee78"
    }
   }
  }
 },
 "nbformat": 4,
 "nbformat_minor": 2,
 "cells": [
  {
   "cell_type": "code",
   "execution_count": null,
   "metadata": {},
   "outputs": [],
   "source": [
    "%matplotlib inline"
   ]
  },
  {
   "cell_type": "code",
   "execution_count": null,
   "metadata": {},
   "outputs": [],
   "source": [
    "import matplotlib.pyplot as plt\n",
    "from model_trainer import *\n",
    "import tensorflow as tf\n",
    "from tensorflow.keras import mixed_precision\n",
    "gpus = tf.config.experimental.list_physical_devices('GPU')\n",
    "if gpus:\n",
    "    try:\n",
    "        for gpu in gpus:\n",
    "            tf.config.experimental.set_memory_growth(gpu, True)\n",
    "    except RuntimeError as e:\n",
    "        print(e)\n",
    "policy = mixed_precision.Policy('mixed_float16')\n",
    "mixed_precision.set_global_policy(policy)"
   ]
  },
  {
   "cell_type": "code",
   "execution_count": null,
   "metadata": {},
   "outputs": [],
   "source": [
    "import cv2\n",
    "import numpy as np\n",
    "from pathlib import Path\n",
    "from tqdm.notebook import trange, tqdm\n",
    "import backbone_models\n",
    "import specific_models\n",
    "import os"
   ]
  },
  {
   "cell_type": "code",
   "execution_count": null,
   "metadata": {},
   "outputs": [],
   "source": [
    "vid_dir = Path('analyze/09_20')\n",
    "model_path = Path('savedmodels/hr538_316_aug_400/50')\n",
    "bb_model = backbone_models.hr_5_3_8\n",
    "sp_model = {\n",
    "    'nose' : specific_models.conv3_16,\n",
    "    'tail' : specific_models.conv3_16,\n",
    "}"
   ]
  },
  {
   "cell_type": "code",
   "execution_count": null,
   "metadata": {},
   "outputs": [],
   "source": [
    "test_model = ChaserModel(tf.keras.Input((240,320,3)),bb_model,sp_model)\n",
    "test_model.load_weights(str(model_path))"
   ]
  },
  {
   "cell_type": "code",
   "execution_count": null,
   "metadata": {},
   "outputs": [],
   "source": [
    "original_wh = (640, 480)\n",
    "model_wh = (320, 240)\n",
    "batch_size = 32\n",
    "original_hw = (original_wh[1],original_wh[0])\n",
    "model_hw = (model_wh[1], model_wh[0])"
   ]
  },
  {
   "cell_type": "code",
   "execution_count": null,
   "metadata": {},
   "outputs": [],
   "source": [
    "vid_names = os.listdir(vid_dir/'vids')\n",
    "vid_names.sort()\n",
    "mv_per_hr = np.zeros(24)\n",
    "for v_i in trange(len(vid_names)):\n",
    "    vid_name = vid_names[v_i]\n",
    "    hour = int(vid_name.split('_')[2])\n",
    "    # We don't need original frames; only relative distance is needed\n",
    "    small_frames = []\n",
    "    cap = cv2.VideoCapture(str(vid_dir/'vids'/vid_name))\n",
    "    t = tqdm(unit='frames',leave=False)\n",
    "    while (cap.isOpened()):\n",
    "        ret, frame = cap.read()\n",
    "        if ret:\n",
    "            small_frame = cv2.resize(frame, dsize=model_wh)[...,2::-1]\n",
    "            small_frames.append(small_frame)\n",
    "            t.update()\n",
    "        else:\n",
    "            break\n",
    "    t.close()\n",
    "    batch_num = len(small_frames) // batch_size\n",
    "    poses = np.empty((0,2))\n",
    "    for i in trange(batch_num, leave=False):\n",
    "        output = test_model.predict_on_batch(np.array(small_frames[i*batch_size:(i+1)*batch_size]))\n",
    "        # Only nose\n",
    "        nose_hms = output['nose']\n",
    "        nose_poses = np.unravel_index(nose_hms.reshape((nose_hms.shape[0],-1)).argmax(axis=1),nose_hms.shape[1:])\n",
    "        poses = np.append(poses,np.swapaxes(nose_poses,0,1),axis=0)\n",
    "    l2_dist = np.sum(np.sqrt(np.sum((poses[1:]-poses[:-1])**2,axis=1)))\n",
    "    mv_per_hr[hour] += l2_dist\n",
    "plt.plot(range(24),mv_per_hr)\n",
    "plt.show()"
   ]
  },
  {
   "cell_type": "code",
   "execution_count": null,
   "metadata": {},
   "outputs": [],
   "source": []
  }
 ]
}